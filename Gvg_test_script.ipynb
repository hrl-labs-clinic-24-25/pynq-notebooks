{
 "cells": [
  {
   "cell_type": "code",
   "execution_count": 1,
   "metadata": {},
   "outputs": [
    {
     "data": {
      "application/javascript": [
       "\n",
       "try {\n",
       "require(['notebook/js/codecell'], function(codecell) {\n",
       "  codecell.CodeCell.options_default.highlight_modes[\n",
       "      'magic_text/x-csrc'] = {'reg':[/^%%microblaze/]};\n",
       "  Jupyter.notebook.events.one('kernel_ready.Kernel', function(){\n",
       "      Jupyter.notebook.get_cells().map(function(cell){\n",
       "          if (cell.cell_type == 'code'){ cell.auto_highlight(); } }) ;\n",
       "  });\n",
       "});\n",
       "} catch (e) {};\n"
      ]
     },
     "metadata": {},
     "output_type": "display_data"
    },
    {
     "data": {
      "application/javascript": [
       "\n",
       "try {\n",
       "require(['notebook/js/codecell'], function(codecell) {\n",
       "  codecell.CodeCell.options_default.highlight_modes[\n",
       "      'magic_text/x-csrc'] = {'reg':[/^%%pybind11/]};\n",
       "  Jupyter.notebook.events.one('kernel_ready.Kernel', function(){\n",
       "      Jupyter.notebook.get_cells().map(function(cell){\n",
       "          if (cell.cell_type == 'code'){ cell.auto_highlight(); } }) ;\n",
       "  });\n",
       "});\n",
       "} catch (e) {};\n"
      ]
     },
     "metadata": {},
     "output_type": "display_data"
    }
   ],
   "source": [
    "from qick import *\n",
    "import matplotlib.pyplot as plt\n",
    "import numpy as np\n",
    "\n",
    "import os\n",
    "import time\n",
    "from pynq import Overlay, DefaultIP, PL"
   ]
  },
  {
   "cell_type": "code",
   "execution_count": 2,
   "metadata": {},
   "outputs": [
    {
     "name": "stdout",
     "output_type": "stream",
     "text": [
      "Name: qickquack\r\n",
      "Version: 0.0.1\r\n",
      "Summary: An extension for qick to use custom DACs\r\n",
      "Home-page: https://github.com/hrl-labs-clinic-24-25/qickquack\r\n",
      "Author: HMC HRL Clinic Team 24-25\r\n",
      "Author-email: UNKNOWN\r\n",
      "License: UNKNOWN\r\n",
      "Location: /home/xilinx/jupyter_notebooks/qickquack\r\n",
      "Requires: qick\r\n",
      "Required-by: \r\n"
     ]
    }
   ],
   "source": [
    "!pip3 show qickquack"
   ]
  },
  {
   "cell_type": "markdown",
   "metadata": {},
   "source": [
    "To install qickquack, you MUST run the 'qickquack_installtion' notebook under /jupyter_notebooks/qickquack_dir"
   ]
  },
  {
   "cell_type": "code",
   "execution_count": 3,
   "metadata": {},
   "outputs": [
    {
     "name": "stdout",
     "output_type": "stream",
     "text": [
      "Help on package qickquack:\n",
      "\n",
      "NAME\n",
      "    qickquack\n",
      "\n",
      "PACKAGE CONTENTS\n",
      "    AxiPvpGen\n",
      "    DACs\n",
      "\n",
      "FILE\n",
      "    /home/xilinx/jupyter_notebooks/qickquack/qickquack/__init__.py\n",
      "\n",
      "\n"
     ]
    }
   ],
   "source": [
    "import qickquack\n",
    "help(qickquack)"
   ]
  },
  {
   "cell_type": "code",
   "execution_count": null,
   "metadata": {},
   "outputs": [],
   "source": [
    "from qickquack import *"
   ]
  },
  {
   "cell_type": "markdown",
   "metadata": {},
   "source": [
    "Need to re-define bitfile_path() so that we can use our new bit file"
   ]
  },
  {
   "cell_type": "code",
   "execution_count": 4,
   "metadata": {},
   "outputs": [],
   "source": [
    "def _new_bitfile_path():\n",
    "    \"\"\"Choose the default firmware path for this board.\n",
    "\n",
    "    Parameters\n",
    "    ----------\n",
    "\n",
    "    Returns\n",
    "    -------\n",
    "    str\n",
    "        absolute path to the firmware bitfile distributed with the QICK library\n",
    "    \"\"\"\n",
    "    #board2file =  {'ZCU216' :'qick_216.bit','ZCU111' :'qick_111.bit','RFSoC4x2' :'qick_4x2.bit'}\n",
    "    #filename = board2file[os.environ['BOARD']]\n",
    "    filename = \"qick_216_integrated_3.bit\"\n",
    "    #src = os.path.join(os.path.dirname(qick.__file__), filename)\n",
    "    src = os.path.join(\"/home/xilinx/bit_files/qick_216_integrated\", filename)\n",
    "    \n",
    "    print(\"using the products of hmc big\")\n",
    "    return src"
   ]
  },
  {
   "cell_type": "code",
   "execution_count": 5,
   "metadata": {},
   "outputs": [],
   "source": [
    "qick.bitfile_path = _new_bitfile_path"
   ]
  },
  {
   "cell_type": "code",
   "execution_count": 6,
   "metadata": {},
   "outputs": [
    {
     "name": "stdout",
     "output_type": "stream",
     "text": [
      "using the products of hmc big\n",
      "QICK running on ZCU216, software version 0.2.325\n",
      "\n",
      "Firmware configuration (built Wed Apr 23 11:38:34 2025):\n",
      "\n",
      "\tGlobal clocks (MHz): tProcessor 430.080, RF reference 245.760\n",
      "\n",
      "\t16 signal generator channels:\n",
      "\t0:\taxis_signal_gen_v6 - envelope memory 65536 samples (6.838 us)\n",
      "\t\tfs=9584.640 MHz, fabric=599.040 MHz, 32-bit DDS, range=9584.640 MHz\n",
      "\t\tDAC tile 0, blk 0 is 0_228, on JHC1\n",
      "\t1:\taxis_signal_gen_v6 - envelope memory 16384 samples (1.709 us)\n",
      "\t\tfs=9584.640 MHz, fabric=599.040 MHz, 32-bit DDS, range=9584.640 MHz\n",
      "\t\tDAC tile 0, blk 1 is 1_228, on JHC2\n",
      "\t2:\taxis_signal_gen_v6 - envelope memory 32768 samples (3.419 us)\n",
      "\t\tfs=9584.640 MHz, fabric=599.040 MHz, 32-bit DDS, range=9584.640 MHz\n",
      "\t\tDAC tile 0, blk 2 is 2_228, on JHC1\n",
      "\t3:\taxis_signal_gen_v6 - envelope memory 16384 samples (1.709 us)\n",
      "\t\tfs=9584.640 MHz, fabric=599.040 MHz, 32-bit DDS, range=9584.640 MHz\n",
      "\t\tDAC tile 0, blk 3 is 3_228, on JHC2\n",
      "\t4:\taxis_sg_mixmux8_v1 - envelope memory 0 samples (0.000 us)\n",
      "\t\tfs=6881.280 MHz, fabric=430.080 MHz, 32-bit DDS, range=1720.320 MHz\n",
      "\t\tDAC tile 1, blk 0 is 0_229, on JHC1\n",
      "\t5:\taxis_sg_int4_v2 - envelope memory 16384 samples (38.095 us)\n",
      "\t\tfs=6881.280 MHz, fabric=430.080 MHz, 32-bit DDS, range=1720.320 MHz\n",
      "\t\tDAC tile 1, blk 1 is 1_229, on JHC2\n",
      "\t6:\taxis_sg_int4_v2 - envelope memory 8192 samples (19.048 us)\n",
      "\t\tfs=6881.280 MHz, fabric=430.080 MHz, 32-bit DDS, range=1720.320 MHz\n",
      "\t\tDAC tile 1, blk 2 is 2_229, on JHC1\n",
      "\t7:\taxis_sg_int4_v2 - envelope memory 16384 samples (38.095 us)\n",
      "\t\tfs=6881.280 MHz, fabric=430.080 MHz, 32-bit DDS, range=1720.320 MHz\n",
      "\t\tDAC tile 1, blk 3 is 3_229, on JHC2\n",
      "\t8:\taxis_sg_int4_v2 - envelope memory 8192 samples (19.048 us)\n",
      "\t\tfs=6881.280 MHz, fabric=430.080 MHz, 32-bit DDS, range=1720.320 MHz\n",
      "\t\tDAC tile 2, blk 0 is 0_230, on JHC3\n",
      "\t9:\taxis_sg_int4_v2 - envelope memory 8192 samples (19.048 us)\n",
      "\t\tfs=6881.280 MHz, fabric=430.080 MHz, 32-bit DDS, range=1720.320 MHz\n",
      "\t\tDAC tile 2, blk 1 is 1_230, on JHC4\n",
      "\t10:\taxis_sg_int4_v2 - envelope memory 8192 samples (19.048 us)\n",
      "\t\tfs=6881.280 MHz, fabric=430.080 MHz, 32-bit DDS, range=1720.320 MHz\n",
      "\t\tDAC tile 2, blk 2 is 2_230, on JHC3\n",
      "\t11:\taxis_sg_int4_v2 - envelope memory 8192 samples (19.048 us)\n",
      "\t\tfs=6881.280 MHz, fabric=430.080 MHz, 32-bit DDS, range=1720.320 MHz\n",
      "\t\tDAC tile 2, blk 3 is 3_230, on JHC4\n",
      "\t12:\taxis_sg_int4_v2 - envelope memory 8192 samples (19.048 us)\n",
      "\t\tfs=6881.280 MHz, fabric=430.080 MHz, 32-bit DDS, range=1720.320 MHz\n",
      "\t\tDAC tile 3, blk 0 is 0_231, on JHC3\n",
      "\t13:\taxis_sg_int4_v2 - envelope memory 8192 samples (19.048 us)\n",
      "\t\tfs=6881.280 MHz, fabric=430.080 MHz, 32-bit DDS, range=1720.320 MHz\n",
      "\t\tDAC tile 3, blk 1 is 1_231, on JHC4\n",
      "\t14:\taxis_sg_int4_v2 - envelope memory 8192 samples (19.048 us)\n",
      "\t\tfs=6881.280 MHz, fabric=430.080 MHz, 32-bit DDS, range=1720.320 MHz\n",
      "\t\tDAC tile 3, blk 2 is 2_231, on JHC3\n",
      "\t15:\taxis_sg_int4_v2 - envelope memory 8192 samples (19.048 us)\n",
      "\t\tfs=6881.280 MHz, fabric=430.080 MHz, 32-bit DDS, range=1720.320 MHz\n",
      "\t\tDAC tile 3, blk 3 is 3_231, on JHC4\n",
      "\n",
      "\t10 readout channels:\n",
      "\t0:\taxis_dyn_readout_v1 - configured by tProc output 4\n",
      "\t\tfs=2457.600 MHz, decimated=307.200 MHz, 32-bit DDS, range=2457.600 MHz\n",
      "\t\taxis_avg_buffer v1.1 (has edge counter)\n",
      "\t\tmaxlen 8192 accumulated, 4096 decimated (13.333 us)\n",
      "\t\ttriggered by tport 10, pin 0, feedback to tProc input 0\n",
      "\t\tADC tile 2, blk 0 is 0_226, on JHC7\n",
      "\t1:\taxis_dyn_readout_v1 - configured by tProc output 4\n",
      "\t\tfs=2457.600 MHz, decimated=307.200 MHz, 32-bit DDS, range=2457.600 MHz\n",
      "\t\taxis_avg_buffer v1.1 (has edge counter)\n",
      "\t\tmaxlen 8192 accumulated, 4096 decimated (13.333 us)\n",
      "\t\ttriggered by tport 11, pin 0, feedback to tProc input 1\n",
      "\t\tADC tile 2, blk 2 is 2_226, on JHC7\n",
      "\t2:\taxis_pfb_readout_v4 - configured by PYNQ\n",
      "\t\tfs=2457.600 MHz, decimated=38.400 MHz, 32-bit DDS, range=38.400 MHz\n",
      "\t\taxis_avg_buffer v1.1 (has edge counter)\n",
      "\t\tmaxlen 8192 accumulated, 1024 decimated (26.667 us)\n",
      "\t\ttriggered by tport 12, pin 0, feedback to tProc input 2\n",
      "\t\tADC tile 2, blk 1 is 1_226, on JHC8\n",
      "\t3:\taxis_pfb_readout_v4 - configured by PYNQ\n",
      "\t\tfs=2457.600 MHz, decimated=38.400 MHz, 32-bit DDS, range=38.400 MHz\n",
      "\t\taxis_avg_buffer v1.1 (has edge counter)\n",
      "\t\tmaxlen 8192 accumulated, 1024 decimated (26.667 us)\n",
      "\t\ttriggered by tport 13, pin 0, feedback to tProc input 3\n",
      "\t\tADC tile 2, blk 1 is 1_226, on JHC8\n",
      "\t4:\taxis_pfb_readout_v4 - configured by PYNQ\n",
      "\t\tfs=2457.600 MHz, decimated=38.400 MHz, 32-bit DDS, range=38.400 MHz\n",
      "\t\taxis_avg_buffer v1.1 (has edge counter)\n",
      "\t\tmaxlen 8192 accumulated, 1024 decimated (26.667 us)\n",
      "\t\ttriggered by tport 14, pin 0, feedback to tProc input 4\n",
      "\t\tADC tile 2, blk 1 is 1_226, on JHC8\n",
      "\t5:\taxis_pfb_readout_v4 - configured by PYNQ\n",
      "\t\tfs=2457.600 MHz, decimated=38.400 MHz, 32-bit DDS, range=38.400 MHz\n",
      "\t\taxis_avg_buffer v1.1 (has edge counter)\n",
      "\t\tmaxlen 8192 accumulated, 1024 decimated (26.667 us)\n",
      "\t\ttriggered by tport 15, pin 0, feedback to tProc input 5\n",
      "\t\tADC tile 2, blk 1 is 1_226, on JHC8\n",
      "\t6:\taxis_pfb_readout_v4 - configured by PYNQ\n",
      "\t\tfs=2457.600 MHz, decimated=38.400 MHz, 32-bit DDS, range=38.400 MHz\n",
      "\t\taxis_avg_buffer v1.1 (has edge counter)\n",
      "\t\tmaxlen 8192 accumulated, 1024 decimated (26.667 us)\n",
      "\t\ttriggered by tport 16, pin 0, feedback to tProc input 6\n",
      "\t\tADC tile 2, blk 1 is 1_226, on JHC8\n",
      "\t7:\taxis_pfb_readout_v4 - configured by PYNQ\n",
      "\t\tfs=2457.600 MHz, decimated=38.400 MHz, 32-bit DDS, range=38.400 MHz\n",
      "\t\taxis_avg_buffer v1.1 (has edge counter)\n",
      "\t\tmaxlen 8192 accumulated, 1024 decimated (26.667 us)\n",
      "\t\ttriggered by tport 17, pin 0, feedback to tProc input 7\n",
      "\t\tADC tile 2, blk 1 is 1_226, on JHC8\n",
      "\t8:\taxis_pfb_readout_v4 - configured by PYNQ\n",
      "\t\tfs=2457.600 MHz, decimated=38.400 MHz, 32-bit DDS, range=38.400 MHz\n",
      "\t\taxis_avg_buffer v1.1 (has edge counter)\n",
      "\t\tmaxlen 8192 accumulated, 1024 decimated (26.667 us)\n",
      "\t\ttriggered by tport 18, pin 0, feedback to tProc input 8\n",
      "\t\tADC tile 2, blk 1 is 1_226, on JHC8\n",
      "\t9:\taxis_pfb_readout_v4 - configured by PYNQ\n",
      "\t\tfs=2457.600 MHz, decimated=38.400 MHz, 32-bit DDS, range=38.400 MHz\n",
      "\t\taxis_avg_buffer v1.1 (has edge counter)\n",
      "\t\tmaxlen 8192 accumulated, 1024 decimated (26.667 us)\n",
      "\t\ttriggered by tport 19, pin 0, feedback to tProc input 9\n",
      "\t\tADC tile 2, blk 1 is 1_226, on JHC8\n",
      "\n",
      "\t8 digital output pins:\n",
      "\t0:\tPMOD0_0_LS\n",
      "\t1:\tPMOD0_1_LS\n",
      "\t2:\tPMOD0_2_LS\n",
      "\t3:\tPMOD0_3_LS\n",
      "\t4:\tPMOD0_4_LS\n",
      "\t5:\tPMOD0_5_LS\n",
      "\t6:\tPMOD0_6_LS\n",
      "\t7:\tPMOD0_7_LS\n",
      "\n",
      "\ttProc qick_processor (\"v2\") rev 23: program memory 4096 words, data memory 16384 words\n",
      "\t\texternal start pin: None\n",
      "\n",
      "\tDDR4 memory buffer: 1073741824 samples (3.495 sec), 128 samples/transfer\n",
      "\t\twired to readouts [0, 1, 2, 3, 4, 5, 6, 7, 8, 9]\n",
      "\n",
      "\tMR buffer: 8192 samples (3.333 us), wired to readouts [0, 1]\n"
     ]
    }
   ],
   "source": [
    "#PL.reset()\n",
    "\n",
    "soc = QickSoc()\n",
    "print(soc)\n",
    "soccfg = QickConfig(soc.get_cfg())"
   ]
  },
  {
   "cell_type": "code",
   "execution_count": 7,
   "metadata": {},
   "outputs": [
    {
     "data": {
      "text/plain": [
       "dict_keys(['axi_dma_avg', 'axi_dma_buf', 'axi_dma_gen', 'axi_dma_mr', 'axi_dma_tproc', 'axi_intc_0', 'axis_avg_buffer_0', 'axis_avg_buffer_1', 'axis_avg_buffer_2', 'axis_avg_buffer_3', 'axis_avg_buffer_4', 'axis_avg_buffer_5', 'axis_avg_buffer_6', 'axis_avg_buffer_7', 'axis_avg_buffer_8', 'axis_avg_buffer_9', 'ddr4/axis_buffer_ddr_v1_0', 'axis_pfb_readout_v4_0', 'axis_sg_mixmux8_v1_0', 'axis_sg_int4_v2_0', 'axis_sg_int4_v2_1', 'axis_sg_int4_v2_10', 'axis_sg_int4_v2_2', 'axis_sg_int4_v2_3', 'axis_sg_int4_v2_4', 'axis_sg_int4_v2_5', 'axis_sg_int4_v2_6', 'axis_sg_int4_v2_7', 'axis_sg_int4_v2_8', 'axis_sg_int4_v2_9', 'axis_signal_gen_v6_0', 'axis_signal_gen_v6_1', 'axis_signal_gen_v6_2', 'axis_signal_gen_v6_3', 'axis_switch_avg', 'axis_switch_buf', 'axis_switch_ddr', 'axis_switch_gen', 'axis_switch_mr', 'mr_buffer_et_0', 'qick_processor_0', 'clk104_gpio', 'usp_rf_data_converter_0', 'axi_pvp_gen_v7_0', 'zynq_ultra_ps_e_0'])"
      ]
     },
     "execution_count": 7,
     "metadata": {},
     "output_type": "execute_result"
    }
   ],
   "source": [
    "soc.ip_dict.keys()"
   ]
  },
  {
   "cell_type": "code",
   "execution_count": 8,
   "metadata": {},
   "outputs": [
    {
     "data": {
      "text/plain": [
       "<pynq.overlay.DefaultIP at 0xffff6a6cb220>"
      ]
     },
     "execution_count": 8,
     "metadata": {},
     "output_type": "execute_result"
    }
   ],
   "source": [
    "soc.axi_pvp_gen_v7_0"
   ]
  },
  {
   "cell_type": "code",
   "execution_count": null,
   "metadata": {},
   "outputs": [],
   "source": [
    "class Gvg(asm_v2.AveragerProgramV2):\n",
    "    def _initialize(self, cfg):\n",
    "        ro_ch = cfg['ro_ch']\n",
    "        gen_ch = cfg['gen_ch']\n",
    "        self.declare_gen(ch=gen_ch, nqz=cfg['nqz'], mixer_freq=0)\n",
    "        self.declare_readout(ch=ro_ch, length=cfg['ro_len'])\n",
    "       \n",
    "        self.add_readoutconfig(ch=ro_ch, name=\"myro\", freq=cfg['freq'], gen_ch=gen_ch,\n",
    "                              outsel='product'\n",
    "                              )\n",
    "        self.add_pulse(ch=gen_ch, name=\"sourcedrain\", ro_ch=ro_ch,\n",
    "                       style=\"const\",\n",
    "                       freq=cfg['freq'],\n",
    "                       length=cfg['pulse_len'],\n",
    "                       phase=0,\n",
    "                       phrst = 1,\n",
    "                       gain=cfg['gain'],\n",
    "                      ) #<-pulse length is most of the dwell time\n",
    "        self.send_readoutconfig(ch=cfg['ro_ch'], name=\"myro\", t=0)\n",
    "        self.add_loop(\"myloop\", cfg['loops']) ### just for executing the loop 100 times, this should correspond to the number of steps in one row of the GvG\n",
    "        \n",
    "        ### setup QuACK dacs here! ###\n",
    "        #bias = DAC(soc)\n",
    "        daccfg = {\n",
    "            'startvals': [1.5, 2.25],\n",
    "            'stepsizes': [0.25, 0.25],\n",
    "            'demuxvals': [3, 4],\n",
    "            'groups': [0, 1],\n",
    "            'mode': 0,\n",
    "            'width': 16,\n",
    "            'num_dims': 2 #num_dims is the number of groups, NOT the number of dacs (you can have multiple dacs per group)\n",
    "            }\n",
    "        \n",
    "        soc.axi_pvp_gen_v7_0.setup_pvp(cfg = daccfg)\n",
    "        \n",
    "        for val in daccfg['demuxvals']:\n",
    "            bias.init_DAC(val)\n",
    "            \n",
    "        soc.axi_pvp_gen_v7_0.start_pvp()\n",
    "        \n",
    "        self.trigger(ros=[cfg['ro_ch']], pins=[0], t=cfg['trig_time'])#<-setup the trigger for the slow DACs, set to pin0 on PMOD0\n",
    "        self.delay(t=cfg['meas_delay']) # insert a delay to ensure all the registers are set\n",
    "       \n",
    "    def _body(self, cfg):\n",
    "       \n",
    "      \n",
    "        self.delay(t=cfg['meas_delay']) # wait a few us before measuring\n",
    "        self.pulse(ch=cfg['gen_ch'], name=\"sourcedrain\", t=0) # readout pulse\n",
    "        self.trigger(ros=[cfg['ro_ch']], t=0, pins=[7]) # trigger ADC for readout, pins=[7] also indicates PMOD0 pin trigger, change the index for other pins\n",
    "        self.delay_auto(t=cfg['meas_delay']) # this can probably be zero, I add in extra timing slack here\n",
    " \n",
    " \n",
    "config = {\n",
    "          'gen_ch': 9,\n",
    "          'ro_ch': 0,\n",
    "          'freq': 1,\n",
    "          'nqz': 1,\n",
    "          'trig_time': 0,\n",
    "          'ro_len': 5,\n",
    "          'pulse_len': 5,\n",
    "          'gain': 1,\n",
    "          'meas_delay': 2,\n",
    "          'loops': 100 #<-number of steps in a single row, in your case upto 256\n",
    "          }\n",
    "\n",
    "                            \n",
    "gvgprog = Gvg(soccfg, reps=1, final_delay=0, cfg=config)\n",
    "d = gvgprog.acquire(soc)"
   ]
  },
  {
   "cell_type": "code",
   "execution_count": null,
   "metadata": {},
   "outputs": [],
   "source": []
  }
 ],
 "metadata": {
  "kernelspec": {
   "display_name": "Python 3",
   "language": "python",
   "name": "python3"
  },
  "language_info": {
   "codemirror_mode": {
    "name": "ipython",
    "version": 3
   },
   "file_extension": ".py",
   "mimetype": "text/x-python",
   "name": "python",
   "nbconvert_exporter": "python",
   "pygments_lexer": "ipython3",
   "version": "3.8.2"
  }
 },
 "nbformat": 4,
 "nbformat_minor": 2
}
