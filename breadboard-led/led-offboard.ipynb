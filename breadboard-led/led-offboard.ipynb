{
 "cells": [
  {
   "cell_type": "code",
   "execution_count": 1,
   "id": "35e8f1d5",
   "metadata": {},
   "outputs": [
    {
     "data": {
      "application/javascript": [
       "\n",
       "try {\n",
       "require(['notebook/js/codecell'], function(codecell) {\n",
       "  codecell.CodeCell.options_default.highlight_modes[\n",
       "      'magic_text/x-csrc'] = {'reg':[/^%%microblaze/]};\n",
       "  Jupyter.notebook.events.one('kernel_ready.Kernel', function(){\n",
       "      Jupyter.notebook.get_cells().map(function(cell){\n",
       "          if (cell.cell_type == 'code'){ cell.auto_highlight(); } }) ;\n",
       "  });\n",
       "});\n",
       "} catch (e) {};\n"
      ]
     },
     "metadata": {},
     "output_type": "display_data"
    },
    {
     "data": {
      "application/javascript": [
       "\n",
       "try {\n",
       "require(['notebook/js/codecell'], function(codecell) {\n",
       "  codecell.CodeCell.options_default.highlight_modes[\n",
       "      'magic_text/x-csrc'] = {'reg':[/^%%pybind11/]};\n",
       "  Jupyter.notebook.events.one('kernel_ready.Kernel', function(){\n",
       "      Jupyter.notebook.get_cells().map(function(cell){\n",
       "          if (cell.cell_type == 'code'){ cell.auto_highlight(); } }) ;\n",
       "  });\n",
       "});\n",
       "} catch (e) {};\n"
      ]
     },
     "metadata": {},
     "output_type": "display_data"
    }
   ],
   "source": [
    "import os\n",
    "from qick import *\n",
    "from pynq import Overlay, DefaultIP"
   ]
  },
  {
   "cell_type": "code",
   "execution_count": 5,
   "id": "602751d4",
   "metadata": {},
   "outputs": [],
   "source": [
    "def bitfile_path():\n",
    "    \"\"\"Choose the default firmware path for this board.\n",
    "\n",
    "    Parameters\n",
    "    ----------\n",
    "\n",
    "    Returns\n",
    "    -------\n",
    "    str\n",
    "        absolute path to the firmware bitfile distributed with the QICK library\n",
    "    \"\"\"\n",
    "    #board2file =  {'ZCU216' :'qick_216.bit','ZCU111' :'qick_111.bit','RFSoC4x2' :'qick_4x2.bit'}\n",
    "    #filename = board2file[os.environ['BOARD']]\n",
    "    filename = \"breadboard-led.bit\"\n",
    "    #src = os.path.join(os.path.dirname(qick.__file__), filename)\n",
    "    src = os.path.join(\"/home/xilinx/bit_files/breadboard-led\", filename)\n",
    "    return src\n"
   ]
  },
  {
   "cell_type": "code",
   "execution_count": 6,
   "id": "8e485eef",
   "metadata": {},
   "outputs": [],
   "source": [
    "class TestSoc(Overlay, QickConfig):\n",
    "    def __init__(self, bitfile=None, **kwargs):\n",
    "        if bitfile is None:\n",
    "            Overlay.__init__(self, bitfile_path(), **kwargs)\n",
    "        else:\n",
    "            Overlay.__init__(self, bitfile, **kwargs)\n",
    "        "
   ]
  },
  {
   "cell_type": "code",
   "execution_count": 7,
   "id": "9dee2f79",
   "metadata": {
    "scrolled": true
   },
   "outputs": [],
   "source": [
    "led_tut = TestSoc()\n",
    "led_tut?"
   ]
  },
  {
   "cell_type": "code",
   "execution_count": 8,
   "id": "aec1d85a",
   "metadata": {},
   "outputs": [],
   "source": [
    "gpio = led_tut.ip_dict['axi_gpio_0']\n"
   ]
  },
  {
   "cell_type": "code",
   "execution_count": 9,
   "id": "58ecfcbf",
   "metadata": {},
   "outputs": [],
   "source": [
    "gpio = led_tut.axi_gpio_0\n"
   ]
  },
  {
   "cell_type": "code",
   "execution_count": 10,
   "id": "54473d92",
   "metadata": {},
   "outputs": [
    {
     "data": {
      "text/plain": [
       "0"
      ]
     },
     "execution_count": 10,
     "metadata": {},
     "output_type": "execute_result"
    }
   ],
   "source": [
    "gpio.read()"
   ]
  },
  {
   "cell_type": "code",
   "execution_count": 11,
   "id": "e7d80d98",
   "metadata": {},
   "outputs": [],
   "source": [
    "#configure leds as output\n",
    "\n",
    "outputMask = 0x0\n",
    "registerOffset = 0x4\n",
    "gpio.write(registerOffset, outputMask)"
   ]
  },
  {
   "cell_type": "code",
   "execution_count": 19,
   "id": "6f3e1908",
   "metadata": {},
   "outputs": [],
   "source": [
    "# write value to leds\n",
    "dataRegisterOffset = 0x0\n",
    "led_pattern = 0x0\n",
    "gpio.write(dataRegisterOffset, led_pattern)"
   ]
  },
  {
   "cell_type": "code",
   "execution_count": 18,
   "id": "0a3ead6f",
   "metadata": {},
   "outputs": [
    {
     "ename": "KeyboardInterrupt",
     "evalue": "",
     "output_type": "error",
     "traceback": [
      "\u001b[0;31m---------------------------------------------------------------------------\u001b[0m",
      "\u001b[0;31mKeyboardInterrupt\u001b[0m                         Traceback (most recent call last)",
      "\u001b[0;32m<ipython-input-18-2596730f2792>\u001b[0m in \u001b[0;36m<module>\u001b[0;34m\u001b[0m\n\u001b[1;32m      2\u001b[0m \u001b[0;32mwhile\u001b[0m\u001b[0;34m(\u001b[0m\u001b[0;36m1\u001b[0m\u001b[0;34m)\u001b[0m\u001b[0;34m:\u001b[0m\u001b[0;34m\u001b[0m\u001b[0;34m\u001b[0m\u001b[0m\n\u001b[1;32m      3\u001b[0m     \u001b[0mgpio\u001b[0m\u001b[0;34m.\u001b[0m\u001b[0mwrite\u001b[0m\u001b[0;34m(\u001b[0m\u001b[0mdataRegisterOffset\u001b[0m\u001b[0;34m,\u001b[0m \u001b[0mval\u001b[0m\u001b[0;34m)\u001b[0m\u001b[0;34m\u001b[0m\u001b[0;34m\u001b[0m\u001b[0m\n\u001b[0;32m----> 4\u001b[0;31m     \u001b[0mnoplist\u001b[0m \u001b[0;34m=\u001b[0m \u001b[0;34m[\u001b[0m\u001b[0mx\u001b[0m \u001b[0;32mfor\u001b[0m \u001b[0mx\u001b[0m \u001b[0;32min\u001b[0m \u001b[0mrange\u001b[0m\u001b[0;34m(\u001b[0m\u001b[0;36m850000\u001b[0m\u001b[0;34m)\u001b[0m\u001b[0;34m]\u001b[0m\u001b[0;34m\u001b[0m\u001b[0;34m\u001b[0m\u001b[0m\n\u001b[0m\u001b[1;32m      5\u001b[0m     \u001b[0mval\u001b[0m \u001b[0;34m=\u001b[0m \u001b[0;34m~\u001b[0m\u001b[0mval\u001b[0m\u001b[0;34m\u001b[0m\u001b[0;34m\u001b[0m\u001b[0m\n",
      "\u001b[0;32m<ipython-input-18-2596730f2792>\u001b[0m in \u001b[0;36m<listcomp>\u001b[0;34m(.0)\u001b[0m\n\u001b[1;32m      2\u001b[0m \u001b[0;32mwhile\u001b[0m\u001b[0;34m(\u001b[0m\u001b[0;36m1\u001b[0m\u001b[0;34m)\u001b[0m\u001b[0;34m:\u001b[0m\u001b[0;34m\u001b[0m\u001b[0;34m\u001b[0m\u001b[0m\n\u001b[1;32m      3\u001b[0m     \u001b[0mgpio\u001b[0m\u001b[0;34m.\u001b[0m\u001b[0mwrite\u001b[0m\u001b[0;34m(\u001b[0m\u001b[0mdataRegisterOffset\u001b[0m\u001b[0;34m,\u001b[0m \u001b[0mval\u001b[0m\u001b[0;34m)\u001b[0m\u001b[0;34m\u001b[0m\u001b[0;34m\u001b[0m\u001b[0m\n\u001b[0;32m----> 4\u001b[0;31m     \u001b[0mnoplist\u001b[0m \u001b[0;34m=\u001b[0m \u001b[0;34m[\u001b[0m\u001b[0mx\u001b[0m \u001b[0;32mfor\u001b[0m \u001b[0mx\u001b[0m \u001b[0;32min\u001b[0m \u001b[0mrange\u001b[0m\u001b[0;34m(\u001b[0m\u001b[0;36m850000\u001b[0m\u001b[0;34m)\u001b[0m\u001b[0;34m]\u001b[0m\u001b[0;34m\u001b[0m\u001b[0;34m\u001b[0m\u001b[0m\n\u001b[0m\u001b[1;32m      5\u001b[0m     \u001b[0mval\u001b[0m \u001b[0;34m=\u001b[0m \u001b[0;34m~\u001b[0m\u001b[0mval\u001b[0m\u001b[0;34m\u001b[0m\u001b[0;34m\u001b[0m\u001b[0m\n",
      "\u001b[0;31mKeyboardInterrupt\u001b[0m: "
     ]
    }
   ],
   "source": [
    "val = 1\n",
    "while(1):\n",
    "    gpio.write(dataRegisterOffset, val)\n",
    "    noplist = [x for x in range(850000)]\n",
    "    val = ~val"
   ]
  },
  {
   "cell_type": "code",
   "execution_count": null,
   "id": "b4279a1d",
   "metadata": {},
   "outputs": [],
   "source": []
  }
 ],
 "metadata": {
  "kernelspec": {
   "display_name": "Python 3",
   "language": "python",
   "name": "python3"
  },
  "language_info": {
   "codemirror_mode": {
    "name": "ipython",
    "version": 3
   },
   "file_extension": ".py",
   "mimetype": "text/x-python",
   "name": "python",
   "nbconvert_exporter": "python",
   "pygments_lexer": "ipython3",
   "version": "3.8.2"
  }
 },
 "nbformat": 4,
 "nbformat_minor": 5
}
